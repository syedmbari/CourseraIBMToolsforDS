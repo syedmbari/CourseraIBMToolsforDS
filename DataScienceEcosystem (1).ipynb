{
 "cells": [
  {
   "cell_type": "markdown",
   "id": "3464dbbf-406f-4cdf-a1c0-ad113677db43",
   "metadata": {},
   "source": [
    "# Data Science Tool and Ecosystem"
   ]
  },
  {
   "cell_type": "markdown",
   "id": "13a8addd-1056-44f1-a45f-8e4f6ca166de",
   "metadata": {},
   "source": [
    "In this notebook, Data Science Tools and Ecosystem are summarized."
   ]
  },
  {
   "cell_type": "markdown",
   "id": "24e78dd6-31b3-4dc1-a091-8fa6730c174e",
   "metadata": {},
   "source": [
    "Some of the popular languages that Data Scientists use are:\n",
    "1. Python\n",
    "2. R\n",
    "3. SQL"
   ]
  },
  {
   "cell_type": "markdown",
   "id": "734ef7a6-e824-4181-b4c0-53ba5d5260fa",
   "metadata": {},
   "source": [
    "Some of the commonly used libraries used by Data Scientists include:\n",
    "1. Pandas\n",
    "2. Numpy\n",
    "3. SciKitlearn"
   ]
  },
  {
   "cell_type": "markdown",
   "id": "7c11b88b-adb6-4d64-9321-7b981bce44df",
   "metadata": {},
   "source": [
    "|Data Science Tools|\n",
    "|------------------|\n",
    "|Python            |\n",
    "|R-Studio          |\n",
    "|TensorFlow        |"
   ]
  },
  {
   "cell_type": "markdown",
   "id": "8e9d32e7-706f-4ca9-8973-3f9ef957ca57",
   "metadata": {},
   "source": [
    "Below are a few examples of evaluating arithmetic expressions in Python.\n"
   ]
  },
  {
   "cell_type": "code",
   "execution_count": 1,
   "id": "cbf88446-c0b7-4791-ba72-d8d742e82f36",
   "metadata": {},
   "outputs": [
    {
     "data": {
      "text/plain": [
       "17"
      ]
     },
     "execution_count": 1,
     "metadata": {},
     "output_type": "execute_result"
    }
   ],
   "source": [
    "#This a simple arithmetic expression to mutiply then add integers\n",
    "(3*4)+5"
   ]
  },
  {
   "cell_type": "code",
   "execution_count": 2,
   "id": "23f81eb2-ba93-4429-bc80-0a16101f34c2",
   "metadata": {},
   "outputs": [
    {
     "data": {
      "text/plain": [
       "3.3333333333333335"
      ]
     },
     "execution_count": 2,
     "metadata": {},
     "output_type": "execute_result"
    }
   ],
   "source": [
    "#This will convert 200 minutes to hours by diving by 60\n",
    "200/60"
   ]
  },
  {
   "cell_type": "markdown",
   "id": "9bfea347-6b19-48e8-8c68-de449fbc8fff",
   "metadata": {},
   "source": [
    "**Objectives:**\n",
    "\n",
    "* Listing popular laguages of data science\n",
    "* Listing popular tools of data science\n",
    "* Creating tables in markdown cells\n",
    "* Performing arithmetic operations in python"
   ]
  },
  {
   "cell_type": "markdown",
   "id": "3443e34c-e877-40cd-a52c-1c2e5cb87a7f",
   "metadata": {},
   "source": [
    "## Author\n",
    "Syed Bari"
   ]
  },
  {
   "cell_type": "code",
   "execution_count": null,
   "id": "64a1f6a9-e100-4cdf-8373-95bc62a7d340",
   "metadata": {},
   "outputs": [],
   "source": []
  }
 ],
 "metadata": {
  "kernelspec": {
   "display_name": "Python 3 (ipykernel)",
   "language": "python",
   "name": "python3"
  },
  "language_info": {
   "codemirror_mode": {
    "name": "ipython",
    "version": 3
   },
   "file_extension": ".py",
   "mimetype": "text/x-python",
   "name": "python",
   "nbconvert_exporter": "python",
   "pygments_lexer": "ipython3",
   "version": "3.9.13"
  }
 },
 "nbformat": 4,
 "nbformat_minor": 5
}
